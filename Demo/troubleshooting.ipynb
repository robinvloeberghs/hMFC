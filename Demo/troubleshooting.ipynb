{
 "cells": [
  {
   "cell_type": "code",
   "execution_count": null,
   "metadata": {},
   "outputs": [],
   "source": [
    "The hMFC is a complex model with many global and local parameters to be estimated. On simulated data the model works great. However, fitting hMFC on empirical data sometimes results in quirky model behavior. In this tutorial we’ll discuss how to recognize some potential quirky behavior and how to solve it. At the heart of our solution will often be fixing some hyperparameter such that they are not estimated.\n",
    "\n",
    "If a0 and all individual a’s go down over iterations:\n",
    "  \n",
    "\tReason: the centering of the criterion fluctuations only happens afterwards and is not incorporated in the posterior directly. This means that before the centering our estimated fluctuations can be shifted all the way up or down (i.e., it doesn’t have a mean of zero). This non-zero mean can be very unlikely for the sampler since we don’t allow an AR intercept. Without an AR intercept the time series has by definition a mean of zero (mean = intercept/(1-ar)). The model tries to deal with this unlikeliness by pushing all a’s to zero (and thus also a0) and thus just estimating a flat line. This problem is more likely to occur with smaller datasets (<1000 trials) because with more trials, the fluctuations are more likely to have a mean of zero.\n",
    "\tSolution: Remove the mean-centering when estimating the criterion fluctuations (insert code line of hmfc.py)\n",
    "\n",
    "If log prob keeps on increasing over many iterations, sigma_sq for all subjects goes to zero, alpha is pushing against upper bound, and beta is going to zero:\n",
    "  \n",
    "  \n",
    "\tReason: model is making all the sigma_sq very small. By doing so it is making the slow drifts deterministic (added AR noise is so small that x_t=ax_(t-1) . By doing so the inverse gamma distribution is become very narrow and steep. As a consequence, the log joint prob keeps on increasing.\n",
    "\tSolution: fix alpha and beta (don’t estimate them) (insert code line of hmfc.py)\n",
    "\tNote: it is recommended to do a sensitivity analysis: check how much final estimates are influenced by fixed alpha and beta values\n",
    "\n",
    "\n",
    "If model ‘breaks’ (log prob makes weird jump and then stops before the specified number of iterations is reached):\n",
    "\tReason: nu_w for a certain variable might go to zero over iterations. If this happens, then the variance over subjects cannot be calculate anymore. This results in an error and the model fitting stops.\n",
    "\tSolution: lower bound for nu_w is now specified in the model and this problem should not occur anymore! (insert code line of hmfc.py)\n",
    "   \n",
    "\n",
    "\n",
    "\n",
    "Something on increasing the upper bound for alpha and beta? \n",
    "\n",
    "\n"
   ]
  }
 ],
 "metadata": {
  "language_info": {
   "name": "python"
  }
 },
 "nbformat": 4,
 "nbformat_minor": 2
}
